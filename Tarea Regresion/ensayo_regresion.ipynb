{
 "cells": [
  {
   "cell_type": "markdown",
   "metadata": {},
   "source": [
    "Universidad Nacional de Colombia.\n",
    "\n",
    "Javier Andrés Mariño Villalba.\n"
   ]
  },
  {
   "cell_type": "markdown",
   "metadata": {},
   "source": [
    "# Regresión Lineal"
   ]
  },
  {
   "cell_type": "markdown",
   "metadata": {},
   "source": [
    "## 1. Introducción:"
   ]
  },
  {
   "cell_type": "markdown",
   "metadata": {},
   "source": [
    "La ciencia se erige sobre un concepto matemático fundamental: la función. Encontrar la relación  que se establece entre dos o más variables es el objetivo de cualquier ciencia- natural o social. Mientras los físicos buscan establecer la relación entre la masa y la fuerza, los sociólogos buscan establecer la  relación entre la pobreza y la delincuencia en un país. Nadie se escapa de las funciones. \n",
    "\n",
    "Ahora bien, puesto que la naturaleza de las relaciones, en su mayoría, no es determinística, no es posible ni conveniente establecer una relación del tipo $y=ax+b$. La estadística proporciona una solución que incluye un componente estocástico: la regresión. Aquí ya no se establece una relación entre variables de las cuales se conoce su estado en todo momento, sino una relación entre variables aleatorias. \n",
    "\n",
    "El objetivo del presente ensayo es mostrar de manera breve la importancia de la regresión. Aunque han pasado años desde que Gauss proporcionó sus fundamentos, hoy por hoy sigue siendo uno de los pilares de la estadística moderna. Las series de tiempo, los datos panel, la evaluación de impacto, la inteligencia artificial, entre otros, se fundamentan en la idea de Gauss."
   ]
  },
  {
   "cell_type": "markdown",
   "metadata": {},
   "source": [
    "## 2. Breve historia"
   ]
  },
  {
   "cell_type": "markdown",
   "metadata": {},
   "source": [
    "No profundizaré demasiado en la historia de la regresión. La regresión tiene su orígen, aunque primitivo, en los albores del siglo XIX. Legendre y Gauss, como se puede leer en [Wikipedia](https://es.wikipedia.org/wiki/Regresi%C3%B3n_lineal), formularon el método de mínimos cuadrados ordinarios y, en especial Gauss, presentó una primera versión del conocido teorema de Gauss-Markov. La regresión no surgió de una indigación teórico, puramente matemática o estadística, sino de una aplicación práctica. Legendre y Gauss estaban interesados en la predicción del movimiento planetario.\n",
    "\n",
    "El término, tal y como lo conocemos hoy, fue acuñado por Francis Galton para describir un fenómenos biológico. Mientras que el no tan conocido matemático belga, Adolphe Quetelet, difundió las especificidades del método matemático asociado a la regresión. Finalmente, fue Robert Fisher, el padre de la estadística frecuentista, quien terminaría por asociar la regresión con conceptos formales como la distribución condicional de probabilidad. \n",
    "\n",
    "\n",
    "\n"
   ]
  },
  {
   "cell_type": "markdown",
   "metadata": {},
   "source": [
    "## 3. El algoritmo"
   ]
  },
  {
   "cell_type": "markdown",
   "metadata": {},
   "source": [
    "El algoritmo asociado a la regresión, deducido del método de mínimos cuadrados ordinarios, no es difícil de encontrar. A continuación se presentará con algún detalle el algoritmo de la regresión lineal simple. Deseamos minimizar los errores de la regresión que pueden ser escritos de la siguiente forma:\n",
    "\n",
    "$$\\sum\\limits_{i=1}^n \\left(e_i \\right)^2= \\sum \\left(y_i - \\beta_0 - \\beta_1x_i\\right)^2$$ \n",
    "\n",
    "Optimizamos, de manera que derivamos e igualamos a cero con respecto a los parámetros: \n",
    "\n",
    "$$\\frac{\\partial{}}{\\partial{\\beta_0}} =- \\sum 2\\left(y_i - \\beta_0 - \\beta_1x_i\\right) = 0$$\n",
    "$$\\sum \\left(y_i - \\beta_0 - \\beta_1x_i\\right) = 0 $$\n",
    "$$\\beta_0 = \\bar y - \\beta_1 \\bar x  $$\n",
    "\n",
    "$$\\frac{\\partial{}}{\\partial{\\beta_1}} = \\sum 2\\left(y_i - \\beta_0 - \\beta_1x_i\\right) (-x_i) = 0$$ \n",
    "$$\\sum x_i \\left(y_i - \\beta_0 - \\beta_1x_i\\right) = 0$$\n",
    "$$\\sum x_iy_i - \\beta_0 \\sum x_i - \\beta_1 \\sum x_i^2 = 0 $$\n",
    "Ahora substituimos los dos resultados anteriores así: \n",
    "$$\\sum x_iy_i - \\left( \\frac{1}{n}\\sum y_i -\\beta_1 \\frac{1}{n}\\sum x_i\\right) \\sum x_i - \\beta_1 \\sum x_i^2 = 0 $$\n",
    "$$\\sum x_iy_i - \\frac{1}{n} \\sum x_i \\sum y_i  =  \\beta_1 \\left(\\sum x_i^2 - \\frac{1}{n} \\left( \\sum x_i \\right) ^2 \\right) $$\n",
    "$$\\beta_1  = \\frac{\\sum x_iy_i - \\frac{1}{n} \\sum x_i \\sum y_i}{\\sum x_i^2 - \\frac{1}{n} \\left( \\sum x_i \\right) ^2 } = \\frac{cov(x,y)}{var(x)}$$ \n",
    "\n"
   ]
  },
  {
   "cell_type": "markdown",
   "metadata": {},
   "source": [
    "Las ecuaciones fueron tomadas de [StackChange](https://math.stackexchange.com/posts/717552/edit)."
   ]
  },
  {
   "cell_type": "markdown",
   "metadata": {},
   "source": [
    "Una buena forma de entender las ecuaciones anteriores es con imágenes. Los parámetros calculados sirven aquí como los parámetros de las funciones de los que hablamos en un principio. Son los que proporcionan el mejor ajuste al conjunto de datos sobre los que queremos encontrar una relación. "
   ]
  },
  {
   "cell_type": "markdown",
   "metadata": {},
   "source": [
    "<img src=https://economipedia.com/wp-content/uploads/Regresi%C3%B3n-lineal.png width=\"200\"/> <img src=\"regresion.png\" width=\"200\"/>"
   ]
  },
  {
   "cell_type": "markdown",
   "metadata": {},
   "source": [
    "## 4. Ejemplo con datos reales. "
   ]
  },
  {
   "cell_type": "markdown",
   "metadata": {},
   "source": [
    "A continuación presentaremos un ejemplo real de la utilización de la regresión. Queremos, en este ejemplo, establecer la relación entre el número de ciclistas por una semana -en un conjunto de 27 ciudades- y el precio por semana de montar bicicleta por semana, la población de la ciudad, el ingreso promedio de los ciclistas y la tasa promedio de parqueo para ciclistas por mes. "
   ]
  },
  {
   "cell_type": "markdown",
   "metadata": {},
   "source": [
    "En primer lugar, debemos importar las librerías de python que necesitamos importar: numpy, pandas  y matplotlib. Posteriormente, con ayuda de la librería pandas cargamos nuestra base de datos. "
   ]
  },
  {
   "cell_type": "code",
   "execution_count": 69,
   "metadata": {},
   "outputs": [],
   "source": [
    "import numpy as np\n",
    "import pandas as pd\n",
    "import matplotlib.pyplot as plt\n",
    "%matplotlib inline\n",
    "from mpl_toolkits.mplot3d import Axes3D\n",
    "from matplotlib import cm\n",
    "plt.rcParams['figure.figsize'] = (16, 9)\n",
    "plt.style.use('ggplot')\n",
    "from sklearn import linear_model\n",
    "data = pd.read_csv(\"./regresion1.csv\", delimiter=\";\")"
   ]
  },
  {
   "cell_type": "markdown",
   "metadata": {},
   "source": [
    "En segundo lugar, estableceremos el número observaciones (ciudades) y el número de variables. Nos encontramos con que hay 28 ciudades en este estudio y 5 variables (sin contar el numerador de las ciudades)."
   ]
  },
  {
   "cell_type": "code",
   "execution_count": 70,
   "metadata": {},
   "outputs": [
    {
     "data": {
      "text/plain": [
       "(27, 6)"
      ]
     },
     "execution_count": 70,
     "metadata": {},
     "output_type": "execute_result"
    }
   ],
   "source": [
    "data.shape"
   ]
  },
  {
   "cell_type": "markdown",
   "metadata": {},
   "source": [
    "En tercer lugar, calculamos algunas estadísticas descriptivas importantes de las variables que se utilizarán en la regresión."
   ]
  },
  {
   "cell_type": "code",
   "execution_count": 71,
   "metadata": {},
   "outputs": [
    {
     "data": {
      "text/html": [
       "<div>\n",
       "<style scoped>\n",
       "    .dataframe tbody tr th:only-of-type {\n",
       "        vertical-align: middle;\n",
       "    }\n",
       "\n",
       "    .dataframe tbody tr th {\n",
       "        vertical-align: top;\n",
       "    }\n",
       "\n",
       "    .dataframe thead th {\n",
       "        text-align: right;\n",
       "    }\n",
       "</style>\n",
       "<table border=\"1\" class=\"dataframe\">\n",
       "  <thead>\n",
       "    <tr style=\"text-align: right;\">\n",
       "      <th></th>\n",
       "      <th>City</th>\n",
       "      <th>Number of weekly riders</th>\n",
       "      <th>Price per week</th>\n",
       "      <th>Population of city</th>\n",
       "      <th>Monthly income of riders</th>\n",
       "      <th>Average parking rates per month</th>\n",
       "    </tr>\n",
       "  </thead>\n",
       "  <tbody>\n",
       "    <tr>\n",
       "      <th>count</th>\n",
       "      <td>27.000000</td>\n",
       "      <td>27.000000</td>\n",
       "      <td>27.000000</td>\n",
       "      <td>2.700000e+01</td>\n",
       "      <td>27.000000</td>\n",
       "      <td>27.000000</td>\n",
       "    </tr>\n",
       "    <tr>\n",
       "      <th>mean</th>\n",
       "      <td>14.000000</td>\n",
       "      <td>160026.074074</td>\n",
       "      <td>49.925926</td>\n",
       "      <td>1.680111e+06</td>\n",
       "      <td>11063.259259</td>\n",
       "      <td>107.037037</td>\n",
       "    </tr>\n",
       "    <tr>\n",
       "      <th>std</th>\n",
       "      <td>7.937254</td>\n",
       "      <td>21301.097303</td>\n",
       "      <td>27.627921</td>\n",
       "      <td>6.780307e+04</td>\n",
       "      <td>3416.627944</td>\n",
       "      <td>45.346089</td>\n",
       "    </tr>\n",
       "    <tr>\n",
       "      <th>min</th>\n",
       "      <td>1.000000</td>\n",
       "      <td>115696.000000</td>\n",
       "      <td>15.000000</td>\n",
       "      <td>1.590000e+06</td>\n",
       "      <td>5800.000000</td>\n",
       "      <td>50.000000</td>\n",
       "    </tr>\n",
       "    <tr>\n",
       "      <th>25%</th>\n",
       "      <td>7.500000</td>\n",
       "      <td>149600.000000</td>\n",
       "      <td>27.500000</td>\n",
       "      <td>1.617500e+06</td>\n",
       "      <td>8400.000000</td>\n",
       "      <td>75.000000</td>\n",
       "    </tr>\n",
       "    <tr>\n",
       "      <th>50%</th>\n",
       "      <td>14.000000</td>\n",
       "      <td>161600.000000</td>\n",
       "      <td>40.000000</td>\n",
       "      <td>1.695000e+06</td>\n",
       "      <td>11600.000000</td>\n",
       "      <td>100.000000</td>\n",
       "    </tr>\n",
       "    <tr>\n",
       "      <th>75%</th>\n",
       "      <td>20.500000</td>\n",
       "      <td>176000.000000</td>\n",
       "      <td>75.000000</td>\n",
       "      <td>1.725000e+06</td>\n",
       "      <td>13888.000000</td>\n",
       "      <td>140.000000</td>\n",
       "    </tr>\n",
       "    <tr>\n",
       "      <th>max</th>\n",
       "      <td>27.000000</td>\n",
       "      <td>192000.000000</td>\n",
       "      <td>102.000000</td>\n",
       "      <td>1.800000e+06</td>\n",
       "      <td>16200.000000</td>\n",
       "      <td>200.000000</td>\n",
       "    </tr>\n",
       "  </tbody>\n",
       "</table>\n",
       "</div>"
      ],
      "text/plain": [
       "           City   Number of weekly riders  Price per week  Population of city  \\\n",
       "count  27.000000                27.000000       27.000000        2.700000e+01   \n",
       "mean   14.000000            160026.074074       49.925926        1.680111e+06   \n",
       "std     7.937254             21301.097303       27.627921        6.780307e+04   \n",
       "min     1.000000            115696.000000       15.000000        1.590000e+06   \n",
       "25%     7.500000            149600.000000       27.500000        1.617500e+06   \n",
       "50%    14.000000            161600.000000       40.000000        1.695000e+06   \n",
       "75%    20.500000            176000.000000       75.000000        1.725000e+06   \n",
       "max    27.000000            192000.000000      102.000000        1.800000e+06   \n",
       "\n",
       "       Monthly income of riders  Average parking rates per month  \n",
       "count                 27.000000                        27.000000  \n",
       "mean               11063.259259                       107.037037  \n",
       "std                 3416.627944                        45.346089  \n",
       "min                 5800.000000                        50.000000  \n",
       "25%                 8400.000000                        75.000000  \n",
       "50%                11600.000000                       100.000000  \n",
       "75%                13888.000000                       140.000000  \n",
       "max                16200.000000                       200.000000  "
      ]
     },
     "execution_count": 71,
     "metadata": {},
     "output_type": "execute_result"
    }
   ],
   "source": [
    "data.describe()"
   ]
  },
  {
   "cell_type": "markdown",
   "metadata": {},
   "source": [
    "En cuarto lugar, establecemos las variables independientes como una matriz con ayuda de numpy y, posteriormente, creamos una variable con los datos de la variable dependiente. "
   ]
  },
  {
   "cell_type": "code",
   "execution_count": 72,
   "metadata": {},
   "outputs": [],
   "source": [
    "dataX =data[['Price per week','Population of city','Monthly income of riders','Average parking rates per month']]\n",
    "price_per_week=data['Price per week']\n",
    "X_train = np.array(dataX)\n",
    "y_train = data['Number of weekly riders']"
   ]
  },
  {
   "cell_type": "markdown",
   "metadata": {},
   "source": [
    "Para ilustar, presentamos la relación gráfica, que nos da muestras, de la correlación entre dos variables. En este caso entre la variable número de ciclistas por semana y precio por semana para los ciclistas. La relación se corresponde con la lógica, pues aumentos de precios disminuyen el número de ciclistas en cada ciudad."
   ]
  },
  {
   "cell_type": "code",
   "execution_count": 73,
   "metadata": {},
   "outputs": [
    {
     "data": {
      "text/plain": [
       "<matplotlib.collections.PathCollection at 0x2cbdf941fa0>"
      ]
     },
     "execution_count": 73,
     "metadata": {},
     "output_type": "execute_result"
    },
    {
     "data": {
      "image/png": "[encoded data removed]",
      "text/plain": [
       "<Figure size 1152x648 with 1 Axes>"
      ]
     },
     "metadata": {},
     "output_type": "display_data"
    }
   ],
   "source": [
    "plt.scatter(price_per_week, y_train)"
   ]
  },
  {
   "cell_type": "markdown",
   "metadata": {},
   "source": [
    "Finalmente, con ayuda de la librería sklearn establecemos la regresión lineal. Para luego calcular los coeficientes de la regresión incluido el término independiente."
   ]
  },
  {
   "cell_type": "code",
   "execution_count": 74,
   "metadata": {},
   "outputs": [
    {
     "data": {
      "text/plain": [
       "LinearRegression()"
      ]
     },
     "execution_count": 74,
     "metadata": {},
     "output_type": "execute_result"
    }
   ],
   "source": [
    "\n",
    "regr = linear_model.LinearRegression()\n",
    " \n",
    "regr.fit(X_train, y_train)"
   ]
  },
  {
   "cell_type": "code",
   "execution_count": 75,
   "metadata": {},
   "outputs": [
    {
     "name": "stdout",
     "output_type": "stream",
     "text": [
      "Coefficients: \n",
      " [-6.89522723e+02  5.49412800e-02 -1.30136687e+00  1.52456367e+02]\n",
      "Independent term: \n",
      " 100222.56066171998\n"
     ]
    }
   ],
   "source": [
    "\n",
    "print('Coefficients: \\n', regr.coef_)\n",
    "\n",
    "print('Independent term: \\n', regr.intercept_)\n"
   ]
  },
  {
   "cell_type": "markdown",
   "metadata": {},
   "source": [
    "Los resultados son interesantes. Un aumento del precio de montar bicicleta por semana ocasiona una disminución del número de clistas por semana. A su vez un aumento de la población de las ciudades aumenta el número de ciclitas por semana. Un aumento del  ingreso mensual de los ciclistas disminuye el número de ciclistas por semana. Y un aumento de la tasa de parqueadero aumenta el número de ciclistas por semana."
   ]
  },
  {
   "cell_type": "markdown",
   "metadata": {},
   "source": [
    "El código aquí presentado fue una adaptación del presentando en [Aprendamos Machine Learning](https://www.aprendemachinelearning.com/regresion-lineal-en-espanol-con-python/)"
   ]
  },
  {
   "cell_type": "markdown",
   "metadata": {},
   "source": [
    "## 5. Conclusiones"
   ]
  },
  {
   "cell_type": "markdown",
   "metadata": {},
   "source": [
    "La regresión lineal sigue más vigente que nunca. La idea de Gauss y Legendre a comienzos del siglo XIX sigue siendo hoy una de las armas predilectas de los estadísticos. Ahora, es una parte importante del aprendizaje de maquinas, de la minería de datos y de otros cuantas áreas de conocimiento. \n",
    "\n",
    "Presentamos un pequeño problema que representa el poderío de la regresión. Incluir el concepto de  función con el de aleatoriedad para la solución de un problema científico. Nada más y nada menos que establecer la relación entre dos variables. \n",
    "\n",
    "Aunque los lenguajes de programación nos facilitan el cálculo de los parámetros de la regresión, el conocimiento teórico asociado a la regresión sigue siendo fundamental. "
   ]
  },
  {
   "cell_type": "markdown",
   "metadata": {},
   "source": [
    "## Bibliografía"
   ]
  },
  {
   "cell_type": "markdown",
   "metadata": {},
   "source": [
    "[Wikipedia](https://es.wikipedia.org/wiki/Regresi%C3%B3n_lineal)"
   ]
  },
  {
   "cell_type": "markdown",
   "metadata": {},
   "source": [
    " [Aprendamos Machine Learning](https://www.aprendemachinelearning.com/regresion-lineal-en-espanol-con-python/)"
   ]
  },
  {
   "cell_type": "markdown",
   "metadata": {},
   "source": [
    "[StackChange](https://math.stackexchange.com/posts/717552/edit)"
   ]
  }
 ],
 "metadata": {
  "kernelspec": {
   "display_name": "Python 3",
   "language": "python",
   "name": "python3"
  },
  "language_info": {
   "codemirror_mode": {
    "name": "ipython",
    "version": 3
   },
   "file_extension": ".py",
   "mimetype": "text/x-python",
   "name": "python",
   "nbconvert_exporter": "python",
   "pygments_lexer": "ipython3",
   "version": "3.8.5"
  }
 },
 "nbformat": 4,
 "nbformat_minor": 4
}
